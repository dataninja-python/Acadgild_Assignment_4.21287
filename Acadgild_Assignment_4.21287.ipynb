{
 "cells": [
  {
   "cell_type": "markdown",
   "metadata": {},
   "source": [
    "# counts number of letters in list of words\n",
    "# checks when a character is a vowel"
   ]
  },
  {
   "cell_type": "code",
   "execution_count": 5,
   "metadata": {},
   "outputs": [
    {
     "name": "stdout",
     "output_type": "stream",
     "text": [
      "Select only words longer than (enter a positive integer number): \n",
      "\n",
      " The word list is ['religion', 'daughter', 'freedman', 'abolition', 'anti-slavery', 'conflict', 'confederate']\n",
      "\n",
      " The length of the words in the list are [8, 8, 8, 9, 12, 8, 11]\n"
     ]
    }
   ],
   "source": [
    "\"\"\"Decided to write an entire module\"\"\"\n",
    "def createList(sentence): return sentence.split()\n",
    "\n",
    "def filteredList(word_list, longer_than):\n",
    "    return list(filter((lambda word: len(word) > longer_than), word_list))\n",
    "\n",
    "def get_user_input(default_answer=7):\n",
    "    not_int = True\n",
    "    while not_int:\n",
    "        try:\n",
    "            result = int(input('Select only words longer than (enter a positive integer number): '))\n",
    "            if result < 0:\n",
    "                print('{} is not positive.  Try again.'.format(result))\n",
    "                get_user_input()\n",
    "            not_int = False\n",
    "            return result\n",
    "        except ValueError:\n",
    "            result = default_answer\n",
    "            not_int = False\n",
    "            return result\n",
    "\n",
    "def get_word_lengths(word_list):\n",
    "    return list(map((lambda w: len(w)), word_list))\n",
    "            \n",
    "def filter_long_words(word_cloud):\n",
    "    word_list = createList(word_cloud)\n",
    "    words_longer_than_this = get_user_input()\n",
    "    final_list = filteredList(word_list, words_longer_than_this)\n",
    "    return final_list\n",
    "    \n",
    "if __name__=='__main__':\n",
    "    \n",
    "    random_words = ('lord god christ pray church bible religion brother sister mother father son\\\n",
    "    daughter family freedman slave africa negro colored abolition anti-slavery peace fight battle\\\n",
    "    conflict soldier rebel confederate')\n",
    "    \n",
    "    only_long_words_list = filter_long_words(random_words)\n",
    "    print('\\n The word list is {}'.format(only_long_words_list))\n",
    "    \n",
    "    word_length_list = get_word_lengths(only_long_words_list)\n",
    "    print('\\n The length of the words in the list are {}'.format(word_length_list))"
   ]
  },
  {
   "cell_type": "code",
   "execution_count": 18,
   "metadata": {},
   "outputs": [
    {
     "name": "stdout",
     "output_type": "stream",
     "text": [
      "T is a vowel: False.\n",
      "s is a vowel: False.\n",
      "U is a vowel: True.\n",
      "W is a vowel: False.\n",
      "b is a vowel: False.\n"
     ]
    }
   ],
   "source": [
    "def is_vowel(character):\n",
    "    c = character.lower()\n",
    "    vowels_list = ['a', 'e', 'i', 'o', 'u']\n",
    "    if c not in vowels_list:\n",
    "        result = False\n",
    "        return result\n",
    "    else:\n",
    "        result = True\n",
    "        return result\n",
    "\n",
    "\n",
    "random_letters = ['T', 's', 'U', 'W', 'b']\n",
    "\n",
    "for letter in random_letters:\n",
    "    answer = is_vowel(letter)\n",
    "    print('{} is a vowel: {}.'.format(letter, answer))"
   ]
  }
 ],
 "metadata": {
  "kernelspec": {
   "display_name": "Python 3",
   "language": "python",
   "name": "python3"
  },
  "language_info": {
   "codemirror_mode": {
    "name": "ipython",
    "version": 3
   },
   "file_extension": ".py",
   "mimetype": "text/x-python",
   "name": "python",
   "nbconvert_exporter": "python",
   "pygments_lexer": "ipython3",
   "version": "3.6.6"
  }
 },
 "nbformat": 4,
 "nbformat_minor": 2
}
